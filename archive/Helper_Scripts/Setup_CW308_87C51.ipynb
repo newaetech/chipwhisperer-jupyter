{
 "cells": [
  {
   "cell_type": "code",
   "execution_count": null,
   "metadata": {},
   "outputs": [],
   "source": [
    "import chipwhisperer as cw\n",
    "try:\n",
    "    if not scope.connectStatus:\n",
    "        scope.con()\n",
    "except NameError:\n",
    "    scope = cw.scope()\n",
    "    \n",
    "target = cw.target(scope)\n",
    "prog=None"
   ]
  },
  {
   "cell_type": "code",
   "execution_count": null,
   "metadata": {},
   "outputs": [],
   "source": [
    "scope.default_seutp()\n",
    "target.baud = 4800\n",
    "#Reset chip - this is NEEDED for device to start.\n",
    "#Also you can reset it \n",
    "def reset_target(scope):\n",
    "    scope.io.tio3 = False\n",
    "    time.sleep(0.05)\n",
    "    scope.io.tio3 = True\n",
    "    time.sleep(0.05)\n",
    "    scope.io.tio3 = False\n",
    "    \n",
    "reset_target(scope)\n",
    "\n",
    "print(\"**************************************************************\")\n",
    "print(\"Use jumpers on H1/H3/H5 to select application.                \")\n",
    "print(\"Default should work by opening terminal & see testing printed.\")\n",
    "print(\"Call reset_8751() to reset target (needed when changing jumpers\")"
   ]
  }
 ],
 "metadata": {
  "kernelspec": {
   "display_name": "Python 3",
   "language": "python",
   "name": "python3"
  },
  "language_info": {
   "codemirror_mode": {
    "name": "ipython",
    "version": 3
   },
   "file_extension": ".py",
   "mimetype": "text/x-python",
   "name": "python",
   "nbconvert_exporter": "python",
   "pygments_lexer": "ipython3",
   "version": "3.7.6"
  }
 },
 "nbformat": 4,
 "nbformat_minor": 2
}
