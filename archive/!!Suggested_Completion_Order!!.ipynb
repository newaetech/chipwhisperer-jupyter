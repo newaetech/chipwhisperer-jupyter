{
 "cells": [
  {
   "cell_type": "markdown",
   "metadata": {},
   "source": [
    "Complete [Introduction to Jupyter](!!Introduction_to_Jupyter!!.ipynb) before completing any of these"
   ]
  },
  {
   "cell_type": "markdown",
   "metadata": {},
   "source": [
    "# Power Analysis"
   ]
  },
  {
   "cell_type": "markdown",
   "metadata": {},
   "source": [
    "## Intro Tutorials"
   ]
  },
  {
   "cell_type": "markdown",
   "metadata": {},
   "source": [
    "1. [Firmware_Build_Setup](PA_Intro_1-Firmware_Build_Setup.ipynb)\n",
    "1. [Instruction_Differences](PA_Intro_2-Instruction_Differences.ipynb)\n",
    "1. [Measuring_SNR_of_Target](PA_Intro_3-Measuring_SNR_of_Target.ipynb)"
   ]
  },
  {
   "cell_type": "markdown",
   "metadata": {},
   "source": [
    "## Simple Power Analysis Tutorials"
   ]
  },
  {
   "cell_type": "markdown",
   "metadata": {},
   "source": [
    "1. [Timing_Analysis_with_Power_for_Password_Bypass](PA_SPA_1-Timing_Analysis_with_Power_for_Password_Bypass.ipynb)"
   ]
  },
  {
   "cell_type": "markdown",
   "metadata": {},
   "source": [
    "## Differential Power Analysis Tutorials"
   ]
  },
  {
   "cell_type": "markdown",
   "metadata": {},
   "source": [
    "1. [Hamming_Weight_Measurement](PA_DPA_1-Hamming_Weight_Measurement.ipynb)\n",
    "1. [Large_HW_Swings](PA_DPA_2-Large_HW_Swings.ipynb)\n",
    "1. [AES DPA Attack](PA_DPA_3-AES_DPA_Attack.ipynb)"
   ]
  },
  {
   "cell_type": "markdown",
   "metadata": {},
   "source": [
    "## Correlation Power Analysis Tutorials"
   ]
  },
  {
   "cell_type": "markdown",
   "metadata": {},
   "source": [
    "1. [Using_CW-Analyzer_for_CPA_Attack](PA_CPA_1-Using_CW-Analyzer_for_CPA_Attack.ipynb)\n",
    "1. [Manual_CPA_Attack](PA_CPA_2-Manual_CPA_Attack.ipynb)\n",
    "1. [Resynchronizing_Data_Traces](PA_CPA_3-Resynchronizing_Data_Traces.ipynb)\n",
    "1. [32bit_AES](PA_CPA_5-32bit_AES.ipynb)"
   ]
  },
  {
   "cell_type": "markdown",
   "metadata": {},
   "source": [
    "## Multiple Analysis Tutorials"
   ]
  },
  {
   "cell_type": "markdown",
   "metadata": {},
   "source": [
    "1. [Breaking_AES-256_Bootloader](PA_Multi_1-Breaking_AES-256_Bootloader.ipynb)"
   ]
  },
  {
   "cell_type": "markdown",
   "metadata": {},
   "source": [
    "## Profiling Attack"
   ]
  },
  {
   "cell_type": "markdown",
   "metadata": {},
   "source": [
    "1. [Template Attacks with Hardware Assumption](PA_Profiling_1-Template_Attacks_HW_Assumption.ipynb)"
   ]
  },
  {
   "cell_type": "markdown",
   "metadata": {},
   "source": [
    "## Test Vector Leakage Assessment Tutorials"
   ]
  },
  {
   "cell_type": "markdown",
   "metadata": {},
   "source": [
    "1. [Performing_TVLA_Testing_for_Crypto_Validation](PA_TVLA_1-Performing_TVLA_Testing_for_Crypto_Validation.ipynb)"
   ]
  },
  {
   "cell_type": "markdown",
   "metadata": {},
   "source": [
    "# Fault"
   ]
  },
  {
   "cell_type": "markdown",
   "metadata": {},
   "source": [
    "1. [Introduction_to_Clock_Glitch_Attacks](Fault_1-Introduction_to_Clock_Glitch_Attacks.ipynb)\n",
    "1. [Introduction_to_Vcc_Glitching_Attacks](Fault_2-Introduction_to_Vcc_Glitch_Attacks.ipynb)\n",
    "1. [Glitch_Buffer_Attacks](Fault_3-Glitch_Buffer_Attacks.ipynb)\n",
    "1. [AES_Differential_Fault_Analysis_Attacks](Fault_4-AES_Differential_Fault_Analysis_Attacks.ipynb)\n",
    "1. [RSA_Fault_Attack](Fault_5-RSA_Fault_Attack.ipynb)"
   ]
  },
  {
   "cell_type": "code",
   "execution_count": null,
   "metadata": {},
   "outputs": [],
   "source": []
  }
 ],
 "metadata": {
  "language_info": {
   "name": "python",
   "pygments_lexer": "ipython3"
  }
 },
 "nbformat": 4,
 "nbformat_minor": 2
}
