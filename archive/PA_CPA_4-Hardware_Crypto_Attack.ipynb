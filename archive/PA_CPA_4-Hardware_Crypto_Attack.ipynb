{
 "cells": [
  {
   "cell_type": "markdown",
   "metadata": {},
   "source": [
    "# Hardware Crypto Attack"
   ]
  },
  {
   "cell_type": "markdown",
   "metadata": {},
   "source": [
    "So far we have mostly been talking about software crypto. But how can we expand this to hardware crypto? Luckily it takes very few changes, so you don't have much to do!\n",
    "\n",
    "In this lab we'll be looking at what is required to attack a hardware crypto device, and what sort of attacks work on these devices. In this case we're going to \"cheat\" and use an already recorded power trace, since we don't have hardware crypto on our target boards."
   ]
  },
  {
   "cell_type": "markdown",
   "metadata": {},
   "source": [
    "## Capture"
   ]
  },
  {
   "cell_type": "code",
   "execution_count": null,
   "metadata": {},
   "outputs": [],
   "source": [
    "SCOPETYPE = 'OPENADC'\n",
    "PLATFORM = 'CW308_STM32F4'\n",
    "CRYPTO_TARGET = 'HWAES'\n",
    "N = 3000"
   ]
  },
  {
   "cell_type": "code",
   "execution_count": null,
   "metadata": {},
   "outputs": [],
   "source": [
    "%%bash\n",
    "cd ../hardware/victims/firmware/\n",
    "mkdir -p simpleserial-aes-lab1 && cp -r simpleserial-aes/* $_"
   ]
  },
  {
   "cell_type": "code",
   "execution_count": null,
   "metadata": {},
   "outputs": [],
   "source": [
    "%%bash -s \"$PLATFORM\" \"$CRYPTO_TARGET\"\n",
    "cd ../hardware/victims/firmware/simpleserial-aes-lab1\n",
    "make PLATFORM=$1 CRYPTO_TARGET=$2"
   ]
  },
  {
   "cell_type": "code",
   "execution_count": null,
   "metadata": {},
   "outputs": [],
   "source": [
    "%run \"Helper_Scripts/Setup_Generic.ipynb\"\n",
    "\n",
    "scope.adc.samples = 2000\n",
    "scope.gain.mode = \"high\"\n",
    "scope.gain.gain = 40\n",
    "print(scope)"
   ]
  },
  {
   "cell_type": "code",
   "execution_count": null,
   "metadata": {
    "scrolled": true
   },
   "outputs": [],
   "source": [
    "import time\n",
    "prog = cw.programmers.STM32FProgrammer\n",
    "fw_path = \"../hardware/victims/firmware/simpleserial-aes-lab1/simpleserial-aes-CW308_STM32F4.hex\"\n",
    "scope.io.target_pwr = False\n",
    "time.sleep(0.1)\n",
    "scope.io.target_pwr = True\n",
    "cw.program_target(scope, prog, fw_path)"
   ]
  },
  {
   "cell_type": "markdown",
   "metadata": {},
   "source": [
    "Before we do a full (longer) capture, let's set a real-time plot up so we can check the settings. You might want to tweak the gain for example here."
   ]
  },
  {
   "cell_type": "code",
   "execution_count": null,
   "metadata": {},
   "outputs": [],
   "source": [
    "%run \"Helper_Scripts/plot.ipynb\"\n",
    "plot = real_time_plot(plot_len=scope.adc.samples)"
   ]
  },
  {
   "cell_type": "code",
   "execution_count": null,
   "metadata": {},
   "outputs": [],
   "source": [
    "from tqdm import tnrange\n",
    "ktp = cw.ktp.Basic()\n",
    "for i in tnrange(20, desc='Capturing traces'):\n",
    "    key, text = ktp.next()  # manual creation of a key, text pair can be substituted here\n",
    "    trace = cw.capture_trace(scope, target, text, key)\n",
    "    if trace is None:\n",
    "        continue\n",
    "    plot.send(trace.wave)   "
   ]
  },
  {
   "cell_type": "markdown",
   "metadata": {},
   "source": [
    "If all looks OK - go ahead and prepare the full capture. The following will capture N traces, we set that earlier to some large number (like 3000)."
   ]
  },
  {
   "cell_type": "code",
   "execution_count": null,
   "metadata": {},
   "outputs": [],
   "source": [
    "project = cw.create_project(\"projects/stm32f415.cwp\", overwrite = True)\n",
    "\n",
    "from tqdm import tnrange\n",
    "ktp = cw.ktp.Basic()\n",
    "for i in tnrange(N, desc='Capturing traces'):\n",
    "    key, text = ktp.next()  # manual creation of a key, text pair can be substituted here\n",
    "    trace = cw.capture_trace(scope, target, text, key)\n",
    "    if trace is None:\n",
    "        continue\n",
    "    project.traces.append(trace)\n",
    "    \n",
    "project.save()"
   ]
  },
  {
   "cell_type": "markdown",
   "metadata": {},
   "source": [
    "## Analysis"
   ]
  },
  {
   "cell_type": "markdown",
   "metadata": {},
   "source": [
    "Next, we'll add our traces to a preprocessing module. We can feed `project.traceManager()` right into `attack.setTraceSource()`, but we could also add pre-processing inbetween (more about this later). We'll also re-open the traces, in this case it is required since the call to `closeAll()` would have flushed the buffers."
   ]
  },
  {
   "cell_type": "code",
   "execution_count": null,
   "metadata": {},
   "outputs": [],
   "source": [
    "#We also rebuild the project object in case you only want to run this half\n",
    "project = cw.open_project('projects/stm32f415.cwp')"
   ]
  },
  {
   "cell_type": "markdown",
   "metadata": {},
   "source": [
    "This time we're going to do a few things. First we will get the traces, and plot a few of them as-is. You can adjust the traces plotted by adjusting the `range(10)`. For example `range(1)` plots the first trace."
   ]
  },
  {
   "cell_type": "code",
   "execution_count": null,
   "metadata": {},
   "outputs": [],
   "source": [
    "%matplotlib notebook\n",
    "import matplotlib.pylab as plt\n",
    "for i in range(0,10):\n",
    "    plt.plot(project.waves[i])"
   ]
  },
  {
   "cell_type": "markdown",
   "metadata": {},
   "source": [
    "If this all works - let's just continue the attack! You'll notice the attack model will change. Let's switch this around for the \"last round state\" model. Remember though - the \"last round state\" model will recover the last round key. In order to maintain consistent PGE information, we should also tell the attack we are looking for the last-round key. We do that by adding a `process_known_key` attribute that performs the key scheduling."
   ]
  },
  {
   "cell_type": "code",
   "execution_count": null,
   "metadata": {},
   "outputs": [],
   "source": [
    "import chipwhisperer.analyzer as cwa\n",
    "from chipwhisperer.analyzer.attacks.models.aes.key_schedule import key_schedule_rounds\n",
    "\n",
    "leak_model = cwa.leakage_models.last_round_state_diff\n",
    "attack = cwa.cpa(project, leak_model)\n",
    "\n",
    "def process_key(key):\n",
    "    recv_key = key_schedule_rounds(key, 0, 10)\n",
    "    return recv_key\n",
    "\n",
    "attack.process_known_key = process_key\n",
    "attack.point_range = [1000, 1500] #Adjust this range as needed! Ideally a single point might be nice.\n",
    "print(attack)"
   ]
  },
  {
   "cell_type": "markdown",
   "metadata": {},
   "source": [
    "And then actually run it:"
   ]
  },
  {
   "cell_type": "code",
   "execution_count": null,
   "metadata": {},
   "outputs": [],
   "source": [
    "import chipwhisperer as cw\n",
    "\n",
    "cb = cwa.get_jupyter_callback(attack)\n",
    "results = attack.run(cb, 100)"
   ]
  },
  {
   "cell_type": "markdown",
   "metadata": {},
   "source": [
    "This might not work exactly - we might need to adjust the window area. So instead we should go back and update the area we specify for the points of interest."
   ]
  },
  {
   "cell_type": "code",
   "execution_count": null,
   "metadata": {},
   "outputs": [],
   "source": [
    "from bokeh.plotting import figure, show\n",
    "from bokeh.io import output_notebook\n",
    "\n",
    "output_notebook()\n",
    "p = figure()\n",
    "\n",
    "bnum = 6\n",
    "\n",
    "key = attack.knownKey()\n",
    "data = attack.getStatistics().diffs[bnum]\n",
    "xr = range(0, len(data[0]))\n",
    "\n",
    "for v in range(0, 256):\n",
    "    p.line(xr, data[v], line_color='green')\n",
    "\n",
    "p.line(xr, data[key[bnum]], line_color='red')\n",
    "show(p)"
   ]
  },
  {
   "cell_type": "markdown",
   "metadata": {},
   "source": [
    "You should see a graph of red and green in time (samples). In red is the correlation of the correct subkey for the first byte, while the rest are in green. You can use this graph to help fine-tune the windowing of the data. Remember the X-axis is an offset from the previously configured starting point. So if your original window was [1000,1500], and there is a nice peak at 338, your new window should encompass just that peak. So a new window of [1337,1339] might be good to try."
   ]
  },
  {
   "cell_type": "markdown",
   "metadata": {},
   "source": [
    "## Analysis with LASCAR"
   ]
  },
  {
   "cell_type": "markdown",
   "metadata": {},
   "source": [
    "You might have noticed how slow the previous analysis was. While the ChipWhisperer core wasn't designed for performance, but we can luckily use some other platforms to run the analysis with. In this example we'll use LASCAR. You may need to install it (the VM release has this already, but if on your own computer you'll need to install). Doing so is as simple as:\n",
    "\n",
    "    git clone https://github.com/Ledger-Donjon/lascar.git\n",
    "    cd lascar\n",
    "    #Can run something like this if you want to keep ref to sources\n",
    "    python setup.py develop\n",
    "    \n",
    "You might need to restart the kernel afterwards to pick up the new module. You can again use the `start_point` and `end_point` to fine-tune the attack."
   ]
  },
  {
   "cell_type": "code",
   "execution_count": null,
   "metadata": {},
   "outputs": [],
   "source": [
    "import chipwhisperer as cw\n",
    "import numpy as np\n",
    "\n",
    "#project = cw.openProject(\"../stm32f415_lab.cwp\")\n",
    "\n",
    "project = cw.open_project(\"./projects/stm32f415.cwp\")\n",
    "\n",
    "start_point = 1000\n",
    "end_point = 1500\n",
    "\n",
    "tm = project.trace_manager()\n",
    "\n",
    "trace_array = np.zeros( (tm.num_traces(), end_point - start_point))\n",
    "textin_array = np.zeros( (tm.num_traces(), len(tm.get_textin(0))), dtype=\"uint8\" )\n",
    "textout_array = np.zeros( (tm.num_traces(), len(tm.get_textout(0))), dtype=\"uint8\" )\n",
    "\n",
    "print (\"Copying %d traces of %d samples into memory\" % (tm.num_traces(), tm.num_points()))\n",
    "for n in range(0, tm.num_traces()):\n",
    "    trace_array[n] = tm.get_trace(n)[start_point:end_point]\n",
    "    textin_array[n] = tm.get_textin(n)\n",
    "    textout_array[n] = tm.get_textout(n)\n",
    "print(\"Copying done! Thank you.\")"
   ]
  },
  {
   "cell_type": "code",
   "execution_count": null,
   "metadata": {},
   "outputs": [],
   "source": [
    "from lascar import *\n",
    "from lascar.tools.aes import sbox, inv_sbox\n",
    "\n",
    "#The following leakage models copied from /chipwhisperer/analyzer/attacks/models/AES128_8bit.py and\n",
    "# massaged into Lascar Version\n",
    "\n",
    "def selection_function_lastroundHD(byte):\n",
    "    # selection_with_guess function must take 2 arguments: value and guess\n",
    "    def selection_with_guess(value, guess):\n",
    "        INVSHIFT_undo = [0, 5, 10, 15, 4, 9, 14, 3, 8, 13, 2, 7, 12, 1, 6, 11]\n",
    "        st10 = value[INVSHIFT_undo[byte]]\n",
    "        st9 = inv_sbox[value[byte] ^ guess]\n",
    "        return hamming(st9 ^ st10)\n",
    "    return selection_with_guess"
   ]
  },
  {
   "cell_type": "code",
   "execution_count": null,
   "metadata": {},
   "outputs": [],
   "source": [
    "from chipwhisperer.analyzer.attacks.models.aes.key_schedule import key_schedule_rounds\n",
    "\n",
    "#Example - round 10 (final round key), for state-to-state leakage\n",
    "highlight_key = key_schedule_rounds(project.trace_manager().get_known_key(0), 0, 10)\n",
    "\n",
    "#Adjust this for actual attack used!\n",
    "guess_range = range(256)\n",
    "cpa_engines = [CpaEngine(\"cpa_%02d\" % i, selection_function_lastroundHD(i), guess_range) for i in range(16)]\n",
    "\n",
    "#Leakage models using ciphertext (such as lastroundHD) require textout\n",
    "containter_textout =  TraceBatchContainer(trace_array, textout_array) #<--textin_array to textout\n",
    "session = Session(containter_textout, engines=cpa_engines).run(batch_size=50)"
   ]
  },
  {
   "cell_type": "code",
   "execution_count": null,
   "metadata": {},
   "outputs": [],
   "source": [
    "import pandas as pd\n",
    "from IPython.display import clear_output\n",
    "import numpy as np\n",
    "import chipwhisperer as cw\n",
    "from chipwhisperer.analyzer.attacks._stats import Results\n",
    "\n",
    "class LascarCWAttacks(object):   \n",
    "    def __init__(self, cpa_engines, highlight_key=None):  \n",
    "        dt = Results()\n",
    "        for i in range(len(cpa_engines)):\n",
    "            results = cpa_engines[i].finalize()\n",
    "            dt.update_subkey(i, results)\n",
    "\n",
    "        self.dt = dt\n",
    "        self.hlk = highlight_key\n",
    "        \n",
    "    def format_stat(self, stat):\n",
    "        return str(\"{:02X}<br>{:.3f}\".format(stat[0], stat[2]))\n",
    "\n",
    "    def color_corr_key(self, row):\n",
    "        ret = [\"\"] * 16\n",
    "        for i,bnum in enumerate(row):\n",
    "            if bnum[0] == highlight_key[i]:\n",
    "                ret[i] = \"color: red\"\n",
    "            else:\n",
    "                ret[i] = \"\"\n",
    "        return ret\n",
    "    \n",
    "    def show_pge(self):\n",
    "        stat_data = self.dt.find_maximums()\n",
    "        df = pd.DataFrame(stat_data).transpose()\n",
    "        return df.head().style.format(self.format_stat).apply(self.color_corr_key, axis=1)\n",
    "        \n",
    "    def results(self): #getStatistics\n",
    "        \"\"\"CW Interfae Function\"\"\"\n",
    "        return self.dt\n",
    "    \n",
    "    def known_key(self): #knownKey\n",
    "        \"\"\"CW Interface Function\"\"\"\n",
    "        if self.hlk is None: return [0]*16\n",
    "        \n",
    "        return self.hlk\n",
    "    \n",
    "    def getReportingInterval(self):\n",
    "        \"\"\"CW Interface Function\"\"\"\n",
    "        return 0\n",
    "    \n",
    "results = LascarCWAttacks(cpa_engines, highlight_key)\n",
    "results.show_pge()"
   ]
  },
  {
   "cell_type": "code",
   "execution_count": null,
   "metadata": {},
   "outputs": [],
   "source": [
    "\n",
    "from bokeh.plotting import figure, show\n",
    "from bokeh.io import output_notebook\n",
    "\n",
    "output_notebook()\n",
    "p = figure()\n",
    "\n",
    "key = highlight_key\n",
    "\n",
    "data = results.results().diffs[0]\n",
    "xr = range(0, len(data[0]))\n",
    "\n",
    "for v in range(0, 256):\n",
    "    p.line(xr, data[v], line_color='green')\n",
    "\n",
    "for bnum in range(0, 16):\n",
    "    data = results.results().diffs[bnum]\n",
    "    p.line(xr, data[key[bnum]], line_color='red')\n",
    "show(p)\n"
   ]
  },
  {
   "cell_type": "markdown",
   "metadata": {},
   "source": [
    "## Conclusion"
   ]
  },
  {
   "cell_type": "markdown",
   "metadata": {},
   "source": [
    "Attacking hardware crypto is similar to any other DPA style attack. In this example we have concentrated on the standard \"Last Round State\" to break a real hardware accelerator."
   ]
  }
 ],
 "metadata": {
  "kernelspec": {
   "display_name": "Python 3",
   "language": "python",
   "name": "python3"
  },
  "language_info": {
   "codemirror_mode": {
    "name": "ipython",
    "version": 3
   },
   "file_extension": ".py",
   "mimetype": "text/x-python",
   "name": "python",
   "nbconvert_exporter": "python",
   "pygments_lexer": "ipython3",
   "version": "3.7.4"
  }
 },
 "nbformat": 4,
 "nbformat_minor": 2
}
