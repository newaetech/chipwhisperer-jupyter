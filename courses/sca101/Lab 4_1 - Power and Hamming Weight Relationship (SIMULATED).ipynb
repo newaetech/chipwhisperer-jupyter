{
 "cells": [
  {
   "cell_type": "markdown",
   "metadata": {},
   "source": [
    "# Part 4, Topic 2: CPA on Firmware Implementation of AES (SIMULATED)"
   ]
  },
  {
   "cell_type": "markdown",
   "metadata": {},
   "source": [
    "---\n",
    "**THIS IS NOT THE COMPLETE TUTORIAL - see file with `(MAIN)` in the name.**\n",
    "\n",
    "---"
   ]
  },
  {
   "cell_type": "markdown",
   "metadata": {},
   "source": [
    "Instead of performing a capture - just copy this data into the referenced code block. It is a copy of the previously recorded data."
   ]
  },
  {
   "cell_type": "code",
   "execution_count": null,
   "metadata": {},
   "outputs": [],
   "source": [
    "import numpy as np\n",
    "from tqdm import tnrange\n",
    "\n",
    "aes_traces_2500_tracedata = np.load(r\"traces/lab4_1_traces.npy\")\n",
    "aes_traces_2500_textindata = np.load(r\"traces/lab4_1_textin.npy\")\n",
    "key = np.load(r\"traces/lab4_1_key.npy\")\n",
    "\n",
    "trace_array = aes_traces_2500_tracedata\n",
    "textin_array = aes_traces_2500_textindata"
   ]
  }
 ],
 "metadata": {
  "kernelspec": {
   "display_name": "Python 3",
   "language": "python",
   "name": "python3"
  },
  "language_info": {
   "codemirror_mode": {
    "name": "ipython",
    "version": 3
   },
   "file_extension": ".py",
   "mimetype": "text/x-python",
   "name": "python",
   "nbconvert_exporter": "python",
   "pygments_lexer": "ipython3",
   "version": "3.7.6"
  }
 },
 "nbformat": 4,
 "nbformat_minor": 2
}
