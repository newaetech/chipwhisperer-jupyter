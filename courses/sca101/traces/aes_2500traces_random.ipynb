{
 "cells": [
  {
   "cell_type": "code",
   "execution_count": 1,
   "metadata": {},
   "outputs": [],
   "source": [
    "import numpy as np\n",
    "\n",
    "aes_traces_2500_tracedata = np.load(r\"traces/lab3_3_traces.npy\")\n",
    "aes_traces_2500_textindata = np.load(r\"traces/lab3_3_textin.npy\")\n",
    "\n",
    "trace_array = aes_traces_2500_tracedata\n",
    "textin_array = aes_traces_2500_textindata"
   ]
  }
 ],
 "metadata": {
  "kernelspec": {
   "display_name": "Python 3",
   "language": "python",
   "name": "python3"
  },
  "language_info": {
   "codemirror_mode": {
    "name": "ipython",
    "version": 3
   },
   "file_extension": ".py",
   "mimetype": "text/x-python",
   "name": "python",
   "nbconvert_exporter": "python",
   "pygments_lexer": "ipython3",
   "version": "3.7.4"
  }
 },
 "nbformat": 4,
 "nbformat_minor": 2
}
