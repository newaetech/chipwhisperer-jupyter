{
 "cells": [
  {
   "cell_type": "markdown",
   "metadata": {},
   "source": [
    "**SUMMARY:** *In the previous lab, we used the TVLA to assess our usual AES implementation. In this lab, we'll see how a separate module, cwtvla, can make this even easier.*\n",
    "\n",
    "**LEARNING OUTCOMES:**\n",
    "* Using cwtvla repeat the TVLA from the previous lab\n",
    "* Using cwtvla for additional TVLA testing"
   ]
  }
 ],
 "metadata": {
  "kernelspec": {
   "display_name": "Python 3",
   "language": "python",
   "name": "python3"
  },
  "language_info": {
   "codemirror_mode": {
    "name": "ipython",
    "version": 3
   },
   "file_extension": ".py",
   "mimetype": "text/x-python",
   "name": "python",
   "nbconvert_exporter": "python",
   "pygments_lexer": "ipython3",
   "version": "3.7.7"
  }
 },
 "nbformat": 4,
 "nbformat_minor": 4
}
