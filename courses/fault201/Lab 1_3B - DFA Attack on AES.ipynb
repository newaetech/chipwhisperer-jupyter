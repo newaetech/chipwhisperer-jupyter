{
 "cells": [
  {
   "cell_type": "markdown",
   "metadata": {},
   "source": [
    "# Part 1, Topic 3, Lab B: DFA Attack on AES"
   ]
  },
  {
   "cell_type": "markdown",
   "metadata": {},
   "source": [
    "This work, \"Part 1, Topic 3, Lab B: DFA Attack on AES\", is a derivative of \"Recovering an AES key by Differential Fault Analysis attack\" by Philippe Teuwen ([\\@doegox](https://twitter.com/doegox)), used under CC BY SA. \"Part 1, Topic 1, Lab B: DFA Attack on AES\" is licensed under CC BY SA by NewAE Technology Inc. \n",
    "\n",
    "The original tutorial with minor modifications is available in the the `archive` folder of this repository. The original description, including attribution and changes is shown in the following block:"
   ]
  },
  {
   "cell_type": "markdown",
   "metadata": {},
   "source": [
    "# Tutorial: Recovering an AES key by Differential Fault Analysis attack\n",
    "\n",
    "Supported setups:\n",
    "\n",
    "SCOPES:\n",
    "\n",
    "* OPENADC\n",
    "\n",
    "PLATFORMS:\n",
    "\n",
    "* CWLITEARM\n",
    "* CWLITEXMEGA\n",
    "\n",
    "This tutorial will introduce you to the Differential Fault Analysis (DFA) attack. It will show you how to configure the  target to perform AES encryptions, how to glitch the encryption operations and introduce errors in the computed ciphertext and finally how to process these glitched ciphertexts to extract the AES key. This can be used as how-to for attacking other targets as well.\n",
    "\n",
    "Original author: Philippe Teuwen ([\\@doegox](https://twitter.com/doegox))\n",
    "\n",
    "License: CC-BY-SA  \n",
    "\n",
    "Improvements are welcome!\n",
    "\n",
    "\n",
    "\n",
    "> **Thanks to Philippe Teuwen for contributing this tutorial, he was the winner of the ChipWhisperer 2018 Contest with this submission!**\n",
    "\n",
    "This notebook has been updated to reflect changes with the ChipWhisperer API, work with the ChipWhisperer-Lite ARM, and with the above congratulatory message.\n",
    "\n",
    "### On giants' shoulders\n",
    "This tutorial is the first to deal with DFA, nevertheless it was not designed from scratch.\n",
    "It relies on multiple sources we strongly encourage your to read as well for a better understanding of the details.\n",
    "\n",
    "* The `simpleserial-aes` target firmware, which contains the software AES implementation used in other side-channel analysis tutorials such as [Using CW Analyzer for CPA Attack](PA_CPA_1-Using_CW-Analyzer_for_CPA_Attack.ipynb). This is the implementation we will attack.\n",
    "* The glitching tutorials:\n",
    "  * [Introduction to Glitch Attacks](Fault_1-Introduction_to_Clock_Glitch_Attacks.ipynb), useful to understand the hardware implementation of the glitching module\n",
    "  * [Tutorial CW305-3 Clock Glitching (wiki)](https://wiki.newae.com/Tutorial_CW305-3_Clock_Glitching) which also presented briefly the principles of glitching AES, but without exploiting the faults\n",
    "* The DFA attack itself: there is no DFA cryptanalysis code in the Chipwhisperer but we'll re-use a Python library the author of this tutorial wrote for attacking white-box implementations. It's called `phoenixAES` and it is available on [Github](https://github.com/SideChannelMarvels/JeanGrey) and on PyPI."
   ]
  },
  {
   "cell_type": "markdown",
   "metadata": {},
   "source": [
    "**SUMMARY:** *We saw in part A of this lab that we can insert faults into the 9th round of AES and, with enough faults and constant plaintext, we can recover the key. In this lab, we'll be trying this attack on a real target. Instead of performing the work manually, we'll be using PhoenixAES, which was written by Philippe Teuwen, author of the tutorial and blog post on which this lab is based. Later, we'll see how this attack can also be used on the 8th round instead.*\n",
    "\n",
    "**LEARNING OUTCOMES**\n",
    "* Identifying the 9th round of AES from a power trace\n",
    "* Checking glitched ciphertexts for single byte fault criteria\n",
    "* Faulting the 8th round of AES"
   ]
  },
  {
   "cell_type": "code",
   "execution_count": null,
   "metadata": {},
   "outputs": [],
   "source": [
    "SCOPETYPE = \"OPENADC\"\n",
    "PLATFORM = \"CWLITEARM\"\n",
    "CRYPTO_TARGET = \"TINYAES128C\""
   ]
  },
  {
   "cell_type": "markdown",
   "metadata": {},
   "source": [
    "## Prerequisites"
   ]
  },
  {
   "cell_type": "markdown",
   "metadata": {},
   "source": [
    "### Brief introduction to Differential Fault Analysis\n",
    "We'll only describe the general principle and the operational constraints.\n",
    "\n",
    "The principle is to repeat the same AES operation over and over and to glitch its intermediate operations to get an output cryptographically incorrect. There are many DFA algorithms which, depending on the nature of the fault (single bit?, single byte?, how many faulted outputs can we collect?...), are able to recover the last round key of the AES with various computations that may be quite intensive.\n",
    "\n",
    "This tutorial covers the recovering of the key of a simple AES-128 encryption.\n",
    "\n",
    "We'll use a quite simple DFA published initially by Dusart, Letourneux and Vivolo in 2002 which has nice properties. For a mathematical deep-dive of the DFA we're using in this tutorial, you can read [Differential Fault Analysis on White-box AES Implementations](https://blog.quarkslab.com/differential-fault-analysis-on-white-box-aes-implementations.html) as we will use the exact same DFA library. Moreover, the blog post explains how to tackle DFA against AES decryption and how to attack more than one round, which is required to attack AES-192 or AES-256.\n",
    "\n",
    "AES-128 is made of 10 rounds, the last one is missing the *MixColumn* operation, the only operation which brings diffusion, i.e. it's an operation which makes a single byte of one round state affecting multiple bytes in the next round, 4 bytes to be exact.\n",
    "\n",
    "![aes_operations.png](img/aes_operations.png)\n",
    "\n",
    "(source: http://www.iis.ee.ethz.ch/~kgf/acacia/fig/aes.png)\n",
    "\n",
    "So, if we inject a fault which affects a single byte between the last two *MixColumn* operations, it will propagate and 4 of the 16 output bytes will be wrong. We don't need to know precisely where we inject our faults, we can simply observe the output and look for a 4-byte fault with one of the 4 possible patterns. The attack is *differential* because we observe the difference between the correct output and the faulty outputs.\n",
    "We'll save you the maths but with 2 such faults on the same column, there is a high probability to recover a quarter of the round key, so with 4\\*2 faults we can recover the entire round key. And because the AES keyschedule is invertible, we can compute it backwards and recover the first round key, which is by definition equal to the AES-128 key.\n",
    "\n",
    "So, our operational constraints are quite simple: be able to run several times the same AES encryption, with the same key (doh!) and the same plaintext input and be able to collect the ciphertexts. Note that technically we don't need to know the value of the plaintext, we only need it to be constant."
   ]
  },
  {
   "cell_type": "markdown",
   "metadata": {},
   "source": [
    "### Installing dependencies\n",
    "\n",
    "Firstly, let's install `phoenixAES` in the current kernel environment:"
   ]
  },
  {
   "cell_type": "code",
   "execution_count": null,
   "metadata": {},
   "outputs": [],
   "source": [
    "import sys\n",
    "!{sys.executable} -m pip install phoenixAES"
   ]
  },
  {
   "cell_type": "markdown",
   "metadata": {},
   "source": [
    "## Target\n",
    "\n",
    "### Which target?\n",
    "\n",
    "Let's recap. This tutorial is specifically focusing on:\n",
    "* AES-128 encryption\n",
    "* the Chipwhisperer Lite ARM or XMEGA target\n",
    "* AVR Crypto Lib or TinyAES128C\n",
    "* clock glitching\n",
    "\n",
    "Other targets and AES implementations should be equally working as well as power glitching. Obviously the glitching parameters will have to be adapted to the corresponding target, which is often not that straightforward.  \n",
    "\n",
    "Even if you run this tutorial on the same Chipwhisperer Lite target hardware, you might have to alter slightly the glitching parameters to be able to get working glitches. Glitching is so sensitive that running twice the exact same attack hardly produce the exact same results."
   ]
  },
  {
   "cell_type": "markdown",
   "metadata": {},
   "source": [
    "### Building the target firmware\n",
    "\n",
    "If you have the `avr-gcc` toolchain installed, you should be able to build the `simpleserial-aes-CW303` firmware:"
   ]
  },
  {
   "cell_type": "code",
   "execution_count": null,
   "metadata": {},
   "outputs": [],
   "source": [
    "%%bash -s \"$PLATFORM\" \"$CRYPTO_TARGET\"\n",
    "cd ../../../hardware/victims/firmware/simpleserial-aes\n",
    "make PLATFORM=$1 CRYPTO_TARGET=$2"
   ]
  },
  {
   "cell_type": "markdown",
   "metadata": {},
   "source": [
    "## Attack setup"
   ]
  },
  {
   "cell_type": "markdown",
   "metadata": {},
   "source": [
    "### CW-lite connection and target flashing\n",
    "\n",
    "Connect to the Chipwhisperer:"
   ]
  },
  {
   "cell_type": "code",
   "execution_count": null,
   "metadata": {},
   "outputs": [],
   "source": [
    "%run \"../../Setup_Scripts/Setup_Generic.ipynb\""
   ]
  },
  {
   "cell_type": "markdown",
   "metadata": {},
   "source": [
    "Flash the target:"
   ]
  },
  {
   "cell_type": "code",
   "execution_count": null,
   "metadata": {
    "scrolled": true
   },
   "outputs": [],
   "source": [
    "fw_path = \"../../../hardware/victims/firmware/simpleserial-aes/simpleserial-aes-{}.hex\".format(PLATFORM)\n",
    "cw.program_target(scope, prog, fw_path)"
   ]
  },
  {
   "cell_type": "code",
   "execution_count": null,
   "metadata": {},
   "outputs": [],
   "source": [
    "if PLATFORM == \"CWLITEXMEGA\":\n",
    "    def reboot_flush():            \n",
    "        scope.io.pdic = False\n",
    "        time.sleep(0.1)\n",
    "        scope.io.pdic = \"high_z\"\n",
    "        time.sleep(0.1)\n",
    "        #Flush garbage too\n",
    "        target.flush()\n",
    "else:\n",
    "    def reboot_flush():            \n",
    "        scope.io.nrst = False\n",
    "        time.sleep(0.05)\n",
    "        scope.io.nrst = \"high_z\"\n",
    "        time.sleep(0.05)\n",
    "        #Flush garbage too\n",
    "        target.flush()"
   ]
  },
  {
   "cell_type": "markdown",
   "metadata": {},
   "source": [
    "### First execution\n",
    "\n",
    "For the DFA attack, we need a constant plaintext (and constant key of course).\n",
    "We could just use two bytearrays but let's use the CW API to demonstrate its usage.\n"
   ]
  },
  {
   "cell_type": "code",
   "execution_count": null,
   "metadata": {},
   "outputs": [],
   "source": [
    "ktp = cw.ktp.Basic()\n",
    "ktp.fixed_text = True\n",
    "ktp.fixed_key = True\n",
    "key, text = ktp.next()"
   ]
  },
  {
   "cell_type": "markdown",
   "metadata": {},
   "source": [
    "Assuming we want to record traces, let's capture the entire AES.  \n",
    "It's useful to see which round(s) we'll glitch by tuning `scope.glitch.ext_offset` later."
   ]
  },
  {
   "cell_type": "code",
   "execution_count": null,
   "metadata": {},
   "outputs": [],
   "source": [
    "scope.clock.adc_src = \"clkgen_x1\"\n",
    "if PLATFORM == \"CWLITEXMEGA\" or PLATFORM == \"CW303\":\n",
    "    scope.adc.samples = 20000\n",
    "elif PLATFORM == \"CWLITEARM\" or PLATFORM == \"CW308_STM32F3\":\n",
    "    scope.adc.samples = 8000"
   ]
  },
  {
   "cell_type": "markdown",
   "metadata": {},
   "source": [
    "Let's test our setup with a first execution, without fault.\n",
    "It will give us the golden reference output."
   ]
  },
  {
   "cell_type": "code",
   "execution_count": null,
   "metadata": {},
   "outputs": [],
   "source": [
    "# make sure glitches are disabled (in case cells are re-run)\n",
    "scope.io.hs2 = \"clkgen\"\n",
    "\n",
    "trace = cw.capture_trace(scope, target, text, key)\n",
    "goldciph = trace.textout\n",
    "print(\"Plaintext: {}\".format(text.hex()))\n",
    "print(\"Key:       {}\".format(key.hex()))\n",
    "print(\"Ciphertext:{}\".format(goldciph.hex()))"
   ]
  },
  {
   "cell_type": "code",
   "execution_count": null,
   "metadata": {},
   "outputs": [],
   "source": [
    "reset_target(scope)"
   ]
  },
  {
   "cell_type": "markdown",
   "metadata": {},
   "source": [
    "Just to be sure, let's check..."
   ]
  },
  {
   "cell_type": "code",
   "execution_count": null,
   "metadata": {},
   "outputs": [],
   "source": [
    "from Crypto.Cipher import AES\n",
    "aes = AES.new(bytes(key), AES.MODE_ECB)\n",
    "goldciph2 = aes.encrypt(bytes(text))\n",
    "print(\"Expected ciphertext:  {}\".format(goldciph2.hex()))"
   ]
  },
  {
   "cell_type": "markdown",
   "metadata": {},
   "source": [
    "Let's draw the full AES execution"
   ]
  },
  {
   "cell_type": "code",
   "execution_count": null,
   "metadata": {},
   "outputs": [],
   "source": [
    "import holoviews as hv\n",
    "from holoviews import opts\n",
    "hv.extension('bokeh')\n",
    "curve = hv.Curve(trace.wave).opts(width=600, height=600)\n",
    "\n",
    "# add boxes around last rounds\n",
    "\n",
    "if PLATFORM == \"CWLITEXMEGA\" or PLATFORM == \"CW303\":\n",
    "    line = hv.Path([(11600, -0.25), (11600, 0.25), (13200, 0.25), (13200, -0.25), (11600, -0.25)], label='8th round').opts(color=\"red\", show_legend=True) * \\\n",
    "            hv.Path([(13250, -0.25), (13250, 0.25), (14850, 0.25), (14850, -0.25), (13250, -0.25)], label='9th round').opts(color=\"green\", show_legend=True) * \\\n",
    "            hv.Path([(14900, -0.25), (14900, 0.25), (16000, 0.25), (16000, -0.25), (14900, -0.25)], label='10th round').opts(color=\"yellow\", show_legend=True)\n",
    "elif PLATFORM == \"CWLITEARM\" or PLATFORM == \"CW308_STM32F3\":\n",
    "    line = hv.Path([(5050, -0.1), (5050, 0.2), (5740, 0.2), (5740, -0.1), (5050, -0.1)], label='8th round').opts(color=\"red\", show_legend=True) * \\\n",
    "            hv.Path([(5740, -0.1), (5740, 0.2), (6425, 0.2), (6425, -0.1), (5740, -0.1)], label='9th round').opts(color=\"green\", show_legend=True) * \\\n",
    "            hv.Path([(6425, -0.1), (6425, 0.2), (6820, 0.2), (6820, -0.1), (6425, -0.1)], label='10th round').opts(color=\"yellow\", show_legend=True)\n",
    "    pass\n",
    "\n",
    "#plt.show()\n",
    "(curve * line).opts(opts.Path(line_width=3)).opts(width=600, height=600)"
   ]
  },
  {
   "cell_type": "markdown",
   "metadata": {},
   "source": [
    "We see clearly the 10 AES-128 rounds, the 10th round being smaller than the others as there is no *MixColumn*."
   ]
  },
  {
   "cell_type": "markdown",
   "metadata": {},
   "source": [
    "### First glitches"
   ]
  },
  {
   "cell_type": "markdown",
   "metadata": {},
   "source": [
    "To check the actual clock glitches with an oscilloscope, you can probe pin 6 of the CW 20 pin connector and run the following function to glitch all clock cycles during 2 seconds. Beware that the probe influences slightly the signal and it's enough to require a different tuning of the glitching parameters, so when you're attacking a target, do it all with or all without the oscilloscope but avoid messing up your setup!\n",
    "In this tutorial, parameters were tuned without attached probe. Still, your board might require slightly different values."
   ]
  },
  {
   "cell_type": "code",
   "execution_count": null,
   "metadata": {},
   "outputs": [],
   "source": [
    "import time\n",
    "if scope._is_husky:\n",
    "    scope.glitch.enabled = True\n",
    "\n",
    "# These width/offset numbers are for CW-Lite/Pro; for CW-Husky, convert as per Fault 1_1:\n",
    "def test_glitches():\n",
    "    if PLATFORM == \"CWLITEXMEGA\" or PLATFORM == \"CW303\":\n",
    "        scope.io.hs2 = \"glitch\"\n",
    "        scope.glitch.clk_src = 'clkgen'\n",
    "        scope.glitch.width=3.5\n",
    "        scope.glitch.offset=34\n",
    "        scope.glitch.trigger_src='continuous'\n",
    "    elif PLATFORM == \"CWLITEARM\" or PLATFORM == \"CW308_STM32F3\":\n",
    "        scope.io.hs2 = \"glitch\"\n",
    "        scope.glitch.clk_src = \"clkgen\"\n",
    "        scope.glitch.width = -10.15625\n",
    "        scope.glitch.offset = -39.84\n",
    "        scope.glitch.trigger_src='continuous'\n",
    "\n",
    "def stop_test_glitches():\n",
    "    scope.glitch.trigger_src='ext_single'\n",
    "\n",
    "test_glitches()\n",
    "time.sleep(2)\n",
    "stop_test_glitches()"
   ]
  },
  {
   "cell_type": "markdown",
   "metadata": {},
   "source": [
    "Here is an example of five glitched clock cycles as seen with an oscilloscope:\n",
    "\n",
    "![clock_glitches.png](img/clock_glitches.png)\n"
   ]
  },
  {
   "cell_type": "markdown",
   "metadata": {},
   "source": [
    "See how the actual width and offset values are rounded to the internal step values."
   ]
  },
  {
   "cell_type": "code",
   "execution_count": null,
   "metadata": {},
   "outputs": [],
   "source": [
    "print(scope.glitch)"
   ]
  },
  {
   "cell_type": "markdown",
   "metadata": {},
   "source": [
    "Let's see the effect of clock glitches on the AES execution."
   ]
  },
  {
   "cell_type": "code",
   "execution_count": null,
   "metadata": {},
   "outputs": [],
   "source": [
    "# Initial glitch parameters\n",
    "# These width/offset numbers are for CW-Lite/Pro; for CW-Husky, convert as per Fault 1_1:\n",
    "if PLATFORM == \"CWLITEXMEGA\" or PLATFORM == \"CW303\":\n",
    "    scope.io.hs2 = \"glitch\"\n",
    "    scope.glitch.clk_src = 'clkgen'\n",
    "    scope.glitch.width=3.5\n",
    "    scope.glitch.offset=34\n",
    "    scope.glitch.trigger_src='ext_single'\n",
    "    scope.glitch.ext_offset = 13000\n",
    "elif PLATFORM == \"CWLITEARM\" or PLATFORM == \"CW308_STM32F3\":\n",
    "    scope.io.hs2 = \"glitch\"\n",
    "    scope.glitch.clk_src = \"clkgen\"\n",
    "    scope.glitch.width = -10.15625 + 1\n",
    "    scope.glitch.offset = -39.84\n",
    "    scope.glitch.ext_offset = 5400\n",
    "    scope.glitch.repeat = 3\n",
    "    scope.glitch.trigger_src='ext_single'\n",
    "\n",
    "# reset target\n",
    "reset_target(scope)\n",
    "time.sleep(0.1)\n",
    "\n",
    "trace = cw.capture_trace(scope, target, text, key)"
   ]
  },
  {
   "cell_type": "code",
   "execution_count": null,
   "metadata": {},
   "outputs": [],
   "source": [
    "curve = hv.Curve(trace.wave)\n",
    "curve *= hv.Path([(scope.glitch.ext_offset, 0.25), (scope.glitch.ext_offset, -0.3)]).opts(color=\"red\")\n",
    "curve.opts(width=600, height=600)"
   ]
  },
  {
   "cell_type": "markdown",
   "metadata": {},
   "source": [
    "You should see a glitch in the power trace (blue) when the clock was glitched (red dotted line).  \n",
    "As said earlier, glitch parameters may have to be adapted to your specific hardware.  Our experience is that a good `scope.glitch.width` is one just a bit smaller than one producing a clearly visible glitch in the power trace. E.g. the trace above was created with `scope.glitch.width=6*MIN_STEP` and we'll use `scope.glitch.width=5*MIN_STEP` in our attack. If this is not precise enough, consider tuning `scope.glitch.width_fine` too."
   ]
  },
  {
   "cell_type": "markdown",
   "metadata": {},
   "source": [
    "### Campaign setup\n",
    "\n",
    "We can use the GlitchController to do all the setup work for us here. We'll be categorizing our data into a lot of different groups, which will allow us to nicely visualize the data after our campaign is done:"
   ]
  },
  {
   "cell_type": "code",
   "execution_count": null,
   "metadata": {},
   "outputs": [],
   "source": [
    "# get control over logging in order to be able to mask target execution errors,\n",
    "# which can easily happen when glitching the target!\n",
    "import logging\n",
    "import chipwhisperer.common.results.glitch as glitch\n",
    "\n",
    "# can \n",
    "gc = glitch.GlitchController(groups=[\"column0\", \"column1\", \"column2\", \"column3\", \"other\", \"reset\", \"normal\"], parameters=[\"width\", \"offset\", \"ext_offset\"])"
   ]
  },
  {
   "cell_type": "markdown",
   "metadata": {},
   "source": [
    "The next cell defines the glitches campaign. Some of this probably looks pretty familliar from other glitching labs. We're doing a bit more work here to categorize the data. We're also making a table in `results` to display results later."
   ]
  },
  {
   "cell_type": "code",
   "execution_count": null,
   "metadata": {},
   "outputs": [],
   "source": [
    "#check if a single column is glitched\n",
    "def check_column_glitch(glitched_ct, gold_ct, column):\n",
    "    column_lookup = [[0, 13, 10, 7], [4, 1, 14, 11], [8, 5, 2, 15], [12, 9, 6, 3]] #shift rows\n",
    "    for byte in column_lookup[column]:\n",
    "        if glitched_ct[byte] == gold_ct[byte]:\n",
    "            return False\n",
    "    return True\n",
    "\n",
    "outputs = []\n",
    "results = []\n",
    "obf = []\n",
    "def campaign():\n",
    "    # Initial glitch parameters\n",
    "    global outputs\n",
    "    global results\n",
    "    global obf\n",
    "    \n",
    "    #reset results arrays\n",
    "    outputs = []\n",
    "    results = results = [['target output', 'width', 'offset', 'extoffset', 'column_fault']]\n",
    "    obf = []\n",
    "    \n",
    "    #glitch setup\n",
    "    scope.io.hs2 = \"glitch\"\n",
    "    scope.glitch.clk_src = 'clkgen'\n",
    "    scope.glitch.trigger_src = 'ext_single'\n",
    "    key, text = ktp.next()\n",
    "    \n",
    "    #make sure correct key is loaded on target\n",
    "    reboot_flush()\n",
    "    target.simpleserial_write('k', key)\n",
    "    target.simpleserial_wait_ack()\n",
    "    \n",
    "    for glitch_setting in gc.glitch_values():\n",
    "        # set glitch settings\n",
    "        scope.glitch.offset = glitch_setting[1]\n",
    "        scope.glitch.width = glitch_setting[0]\n",
    "        scope.glitch.ext_offset = glitch_setting[2]\n",
    "        \n",
    "        #do glitch\n",
    "        target.flush()\n",
    "        key, text = ktp.next()\n",
    "        logging.getLogger().setLevel(logging.ERROR)\n",
    "        \n",
    "        scope.arm()        \n",
    "        target.simpleserial_write('p', text)\n",
    "        \n",
    "        ret = scope.capture()\n",
    "        if ret:\n",
    "            print(\"timeout!\")\n",
    "            reboot_flush()\n",
    "            target.simpleserial_write('k', key)\n",
    "            target.simpleserial_wait_ack()\n",
    "            continue\n",
    "          \n",
    "        #record output\n",
    "        output = target.simpleserial_read_witherrors('r', 16, timeout=100, glitch_timeout=1) #don't care about glitchy text\n",
    "        \n",
    "        #handle invalid output\n",
    "        if not output['valid']:\n",
    "            gc.add(\"reset\", (scope.glitch.width, scope.glitch.offset, scope.glitch.ext_offset))\n",
    "            reboot_flush()\n",
    "            target.simpleserial_write('k', key)\n",
    "            target.simpleserial_wait_ack()\n",
    "            continue\n",
    "        \n",
    "        data = [bytes(output['payload']).hex(), scope.glitch.width, scope.glitch.offset, scope.glitch.ext_offset]\n",
    "        \n",
    "        #normal output\n",
    "        if output['payload'] == goldciph:\n",
    "            gc.add(\"normal\", (scope.glitch.width, scope.glitch.offset, scope.glitch.ext_offset))\n",
    "            data.append(None)\n",
    "            results.append(data)\n",
    "            continue\n",
    "        \n",
    "        outputs.append(output['payload'])\n",
    "        \n",
    "        #check for a glitch in each column of AES\n",
    "        column_glitches = []\n",
    "        for column in range(4):\n",
    "            if check_column_glitch(output['payload'], goldciph, column):\n",
    "                column_glitches.append(column)\n",
    "           \n",
    "        #We're looking for single column glitches here\n",
    "        if len(column_glitches) == 1:\n",
    "            gc.add(\"column{}\".format(column_glitches[0]), (scope.glitch.width, scope.glitch.offset, scope.glitch.ext_offset))\n",
    "            obf.append(output['payload'])\n",
    "            data.append(column_glitches[0])\n",
    "        else:\n",
    "            gc.add(\"other\", (scope.glitch.width, scope.glitch.offset, scope.glitch.ext_offset))\n",
    "            data.append(0xFF)\n",
    "        \n",
    "        #for display in ascii table\n",
    "        results.append(data)        "
   ]
  },
  {
   "cell_type": "markdown",
   "metadata": {},
   "source": [
    "## Attacking the 9th round"
   ]
  },
  {
   "cell_type": "markdown",
   "metadata": {},
   "source": [
    "### R9: Collecting faulty outputs\n",
    "\n",
    "In this attack, we'll try to glitch the 9th round MixColumns. You'll want to glitch between the output of the 8th round MixColumns and the input of the 9th round MixColumns. The following operations are between these two parts of AES:\n",
    "\n",
    "1. 8th round AddRoundKey\n",
    "1. 9th round SubBytes\n",
    "1. 9th round ShiftRows\n",
    "\n",
    "It may help to have the plot with the rounds marked off:"
   ]
  },
  {
   "cell_type": "code",
   "execution_count": null,
   "metadata": {},
   "outputs": [],
   "source": [
    "import holoviews as hv\n",
    "from holoviews import opts\n",
    "hv.extension('bokeh')\n",
    "curve = hv.Curve(trace.wave).opts(width=600, height=600)\n",
    "\n",
    "# add boxes around last rounds\n",
    "if PLATFORM == \"CWLITEXMEGA\" or PLATFORM == \"CW303\":\n",
    "    line = hv.Path([(11600, -0.25), (11600, 0.25), (13200, 0.25), (13200, -0.25), (11600, -0.25)], label='8th round').opts(color=\"red\", show_legend=True) * \\\n",
    "            hv.Path([(13250, -0.25), (13250, 0.25), (14850, 0.25), (14850, -0.25), (13250, -0.25)], label='9th round').opts(color=\"green\", show_legend=True) * \\\n",
    "            hv.Path([(14900, -0.25), (14900, 0.25), (16000, 0.25), (16000, -0.25), (14900, -0.25)], label='10th round').opts(color=\"yellow\", show_legend=True)\n",
    "elif PLATFORM == \"CWLITEARM\" or PLATFORM == \"CW308_STM32F3\":\n",
    "    line = hv.Path([(5050, -0.1), (5050, 0.2), (5740, 0.2), (5740, -0.1), (5050, -0.1)], label='8th round').opts(color=\"red\", show_legend=True) * \\\n",
    "            hv.Path([(5740, -0.1), (5740, 0.2), (6425, 0.2), (6425, -0.1), (5740, -0.1)], label='9th round').opts(color=\"green\", show_legend=True) * \\\n",
    "            hv.Path([(6425, -0.1), (6425, 0.2), (6820, 0.2), (6820, -0.1), (6425, -0.1)], label='10th round').opts(color=\"yellow\", show_legend=True)\n",
    "    pass\n",
    "\n",
    "(curve * line).opts(opts.Path(line_width=3)).opts(width=600, height=600)"
   ]
  },
  {
   "cell_type": "code",
   "execution_count": null,
   "metadata": {},
   "outputs": [],
   "source": [
    "# for scope.glitch.width:\n",
    "# These width/offset numbers are for CW-Lite/Pro; for CW-Husky, convert as per Fault 1_1:\n",
    "if PLATFORM == \"CWLITEXMEGA\" or PLATFORM == \"CW303\":\n",
    "    width_range = Range(7*MIN_STEP, 8*MIN_STEP, MIN_STEP)\n",
    "    offset_range = Range(0.4, 1.4, MIN_STEP)\n",
    "    extoffset_range = Range(12800, 14100, 5)\n",
    "    glitch_repeat = 5\n",
    "elif PLATFORM == \"CWLITEARM\" or PLATFORM == \"CW308_STM32F3\":\n",
    "    gc.set_range(\"width\", 3, 5)\n",
    "    gc.set_range(\"offset\", -13, -13)\n",
    "    gc.set_range(\"ext_offset\", 5550, 5950)\n",
    "    gc.set_global_step(0.4)\n",
    "    scope.glitch.repeat = 1"
   ]
  },
  {
   "cell_type": "markdown",
   "metadata": {},
   "source": [
    "The next cell runs the glitches campaign. Until you disconnect the Chipwhisperer, you can re-run the campaign and analyze its results several times.  \n",
    "Even when the parameters are perfectly maintained, the glitch effects are never twice exactly the same and the results of our campaigns may vary quite a lot.  \n",
    "Adjust these parameters if you don't get proper results. Roughly:\n",
    "* Grab your glitch settings from Fault101\n",
    "* Avoid increasing too much `scope.glitch.repeat` as you don't want to inject mutiple faults affecting several bytes at once\n",
    "* Beware of the effect of an oscilloscope probe if you're monitoring the glitches\n",
    "\n",
    "The goal is to collect as many *interesting* outputs as possible. An *interesting* output at this stage is simply a 16-byte output different from the reference output."
   ]
  },
  {
   "cell_type": "code",
   "execution_count": null,
   "metadata": {},
   "outputs": [],
   "source": [
    "gc.display_stats()\n",
    "campaign()"
   ]
  },
  {
   "cell_type": "markdown",
   "metadata": {},
   "source": [
    "Let's see the results:"
   ]
  },
  {
   "cell_type": "code",
   "execution_count": null,
   "metadata": {
    "scrolled": true
   },
   "outputs": [],
   "source": [
    "from terminaltables import AsciiTable\n",
    "table = AsciiTable(results)\n",
    "print(table.table)"
   ]
  },
  {
   "cell_type": "markdown",
   "metadata": {},
   "source": [
    "Single we recorded which column each glitch was in, we can also plot where in `ext_offset` each successful glitch was. You can use either `width` or `offset` for the y-axis. In fact, try both!"
   ]
  },
  {
   "cell_type": "code",
   "execution_count": null,
   "metadata": {},
   "outputs": [],
   "source": [
    "%matplotlib notebook\n",
    "gc.results.plot_2d(plotdots={\"column0\":\"+g\", \"column1\":\"pr\", \"column2\":\"bo\", \n",
    "                             \"column3\":\"sk\", \"normal\":None, \"other\":None, \"reset\":None},\n",
    "                   x_index=2, y_index=0)"
   ]
  },
  {
   "cell_type": "markdown",
   "metadata": {},
   "source": [
    "We can also plot where we got resets and \"other\" results (glitches that didn't fault each byte in a single column). You can see there's way more \"other\" results and resets than successful glitches."
   ]
  },
  {
   "cell_type": "code",
   "execution_count": null,
   "metadata": {},
   "outputs": [],
   "source": [
    "%matplotlib notebook\n",
    "gc.results.plot_2d(plotdots={\"column0\":\"^g\", \"column1\":\"vg\", \"column2\":\"<g\", \n",
    "                             \"column3\":\">g\", \"normal\":None, \"other\":\"b.\", \"reset\":\"rx\"},\n",
    "                   x_index=2, y_index=0)"
   ]
  },
  {
   "cell_type": "markdown",
   "metadata": {},
   "source": [
    "### R9: Cryptanalysis of the faulty outputs\n",
    "\n",
    "We'll use `phoenixAES` to perform the DFA against the collected ciphertexts.\n",
    "\n",
    "All it requires is the list of *interesting* outputs and the reference output."
   ]
  },
  {
   "cell_type": "code",
   "execution_count": null,
   "metadata": {},
   "outputs": [],
   "source": [
    "import phoenixAES\n",
    "r10=phoenixAES.crack_bytes(outputs, goldciph, encrypt=True, verbose=2)"
   ]
  },
  {
   "cell_type": "markdown",
   "metadata": {},
   "source": [
    "You can get a much cleaner output by only inserting single column faults:"
   ]
  },
  {
   "cell_type": "code",
   "execution_count": null,
   "metadata": {},
   "outputs": [],
   "source": [
    "r10=phoenixAES.crack_bytes(obf, goldciph, encrypt=True, verbose=2)"
   ]
  },
  {
   "cell_type": "markdown",
   "metadata": {},
   "source": [
    "In this first attack, we assume the fault was injected *between* the last two *MixColumn* operations and we look for ciphertexts only partially (25%) corrupted.  \n",
    "We hope you managed to recover the full 10th round key. If not, you may try again [from here](#R9:-Collecting-faulty-outputs) :) If you got very few or no \"interesting\" ciphertexts, better to tune `width_range`.   \n",
    "Once the last round key is recovered, you can revert the AES keyscheduling and reveal the actual AES key."
   ]
  },
  {
   "cell_type": "code",
   "execution_count": null,
   "metadata": {},
   "outputs": [],
   "source": [
    "r9_key=None\n",
    "if r10 is not None:\n",
    "    from chipwhisperer.analyzer.attacks.models.aes.key_schedule import key_schedule_rounds\n",
    "    r9_key = key_schedule_rounds(bytearray.fromhex(r10), 10, 0)\n",
    "    print(\"AES Key:\")\n",
    "    print(''.join(\"%02x\" % x for x in r9_key))\n",
    "else:\n",
    "    print(\"Sorry, no key found, try another campain, maybe with different parameters...\")"
   ]
  },
  {
   "cell_type": "markdown",
   "metadata": {},
   "source": [
    "### R9: Plotting inner states differences"
   ]
  },
  {
   "cell_type": "markdown",
   "metadata": {},
   "source": [
    "Once the AES key is known, we can display where the actual faults were injected, here plotting the first 10 outputs. "
   ]
  },
  {
   "cell_type": "code",
   "execution_count": null,
   "metadata": {},
   "outputs": [],
   "source": [
    "%run \"../../Helper_Scripts/AES_differential_plotter.ipynb\"\n",
    "curve = None\n",
    "if r9_key is not None:\n",
    "    ad=AesDiff(intext=text, key=r9_key, encrypt=True)\n",
    "    for c in outputs[:20]:\n",
    "        ad.add_glitch(c)\n",
    "    curve=ad.plot_diff_bits()\n",
    "    if curve:\n",
    "        curve\n",
    "        curve *= hv.Path([(0, 8), (10, 8)], label='8 bits faulted').opts(color=\"red\", show_legend=True)\n",
    "    pass\n",
    "curve.opts(width=600, height=600)"
   ]
  },
  {
   "cell_type": "markdown",
   "metadata": {},
   "source": [
    "This graph displays the difference in bits between the goldciph and the faulty ciphertext at the output of each round. Of course the plot only makes sense from the lowest points of the curve to the right, there is no fault diffusion from the fault to the left.\n",
    "We're more interested in the number of bytes which are faulted before the last *MixColumn*:"
   ]
  },
  {
   "cell_type": "code",
   "execution_count": null,
   "metadata": {},
   "outputs": [],
   "source": [
    "curve=None\n",
    "if r9_key is not None:\n",
    "    curve=ad.plot_diff_bytes()\n",
    "    curve\n",
    "    curve *= hv.Path([(0, 1), (10, 1)], label='1 byte faulted').opts(color=\"red\", show_legend=True)\n",
    "curve.opts(width=600, height=600)"
   ]
  },
  {
   "cell_type": "markdown",
   "metadata": {},
   "source": [
    "We also kept track of which outputs faulted a single column. We can plot all of these single column fault here:"
   ]
  },
  {
   "cell_type": "code",
   "execution_count": null,
   "metadata": {},
   "outputs": [],
   "source": [
    "%run \"../../Helper_Scripts/AES_differential_plotter.ipynb\"\n",
    "curve = None\n",
    "if r9_key is not None:\n",
    "    ad=AesDiff(intext=text, key=r9_key, encrypt=True)\n",
    "    for c in obf[:]:\n",
    "        ad.add_glitch(c)\n",
    "    curve=ad.plot_diff_bits()\n",
    "    if curve:\n",
    "        curve *= hv.Path([(0, 8), (10, 8)], label='8 bits faulted').opts(color=\"red\", show_legend=True)\n",
    "curve.opts(width=600, height=600)"
   ]
  },
  {
   "cell_type": "markdown",
   "metadata": {},
   "source": [
    "You should hopefully see mostly single byte faults here (you're looking for one byte to be wrong in the 8th round output). Otherwise multiple bytes in the column were faulted and we can't use that output to break the key! These faults are all on a single column, so they end up affecting 4 bytes of output."
   ]
  },
  {
   "cell_type": "code",
   "execution_count": null,
   "metadata": {},
   "outputs": [],
   "source": [
    "curve=None\n",
    "if r9_key is not None:\n",
    "    curve=ad.plot_diff_bytes()\n",
    "    curve *= hv.Path([(0, 1), (10, 1)], label='1 byte faulted').opts(color=\"red\", show_legend=True)\n",
    "curve.opts(width=600, height=600)"
   ]
  },
  {
   "cell_type": "markdown",
   "metadata": {},
   "source": [
    "We managed to break the key because indeed a number of executions was properly faulted on a single byte before the last *MixColumn*, cf the lowest curves at position 8."
   ]
  },
  {
   "cell_type": "markdown",
   "metadata": {},
   "source": [
    "## Attacking the 8th round\n",
    "\n",
    "To reduce the number of required faults, we can inject glitches one round earlier.\n",
    "If the faults are injected one *MixColumn* earlier, in the 8th round, the ciphertext will be completely corrupted.\n",
    "But we can still apply the same cryptanalysis!\n",
    "The trick is to convert one such fault into four faults on the 9th round."
   ]
  },
  {
   "cell_type": "markdown",
   "metadata": {},
   "source": [
    "### R8: Collecting faulty outputs\n",
    "\n",
    "Let's change our parameters to attack one round earlier and launch our attack. We're still doing the single byte display, but this time you shouldn't see any single column faults. Instead, both good and bad faults are grouped into \"other\"."
   ]
  },
  {
   "cell_type": "code",
   "execution_count": null,
   "metadata": {},
   "outputs": [],
   "source": [
    "# for scope.glitch.ext_offset:\n",
    "if PLATFORM == \"CWLITEXMEGA\" or PLATFORM == \"CW303\":\n",
    "    extoffset_range = Range(11800, 12400, 3)\n",
    "elif PLATFORM == \"CWLITEARM\" or PLATFORM == \"CW308_STM32F3\":\n",
    "    gc.set_range(\"ext_offset\", 5050, 5250)\n",
    "gc.display_stats()\n",
    "campaign()"
   ]
  },
  {
   "cell_type": "markdown",
   "metadata": {},
   "source": [
    "Let's see the results:"
   ]
  },
  {
   "cell_type": "code",
   "execution_count": null,
   "metadata": {},
   "outputs": [],
   "source": [
    "from terminaltables import AsciiTable\n",
    "table = AsciiTable(results)\n",
    "print(table.table)"
   ]
  },
  {
   "cell_type": "markdown",
   "metadata": {},
   "source": [
    "### R8: Cryptanalysis of the faulty outputs\n",
    "\n",
    "In this second attack, we assume the fault was injected *before* the last two *MixColumn* operations.\n",
    "First, we convert each 100% faulty output into four 25% faulty outputs and then we apply the same attack as before."
   ]
  },
  {
   "cell_type": "code",
   "execution_count": null,
   "metadata": {},
   "outputs": [],
   "source": [
    "outputs2=phoenixAES.convert_r8faults_bytes(outputs, goldciph, encrypt=True)\n",
    "r10=phoenixAES.crack_bytes(outputs2, goldciph, encrypt=True, verbose=2)"
   ]
  },
  {
   "cell_type": "markdown",
   "metadata": {},
   "source": [
    "We hope you managed to recover the full 10th round key. If not, you may try again [from here](#R8:-Collecting-faulty-outputs). \n",
    "Once the last round key is recovered, you can revert the AES keyscheduling and reveal the actual AES key."
   ]
  },
  {
   "cell_type": "code",
   "execution_count": null,
   "metadata": {},
   "outputs": [],
   "source": [
    "if r10 is not None:\n",
    "    from chipwhisperer.analyzer.attacks.models.aes.key_schedule import key_schedule_rounds\n",
    "    key = key_schedule_rounds(bytearray.fromhex(r10), 10, 0)\n",
    "    print(\"AES Key:\")\n",
    "    print(''.join(\"%02x\" % x for x in key))\n",
    "else:\n",
    "    print(\"Sorry, no key found, try another campain, maybe with different parameters...\")"
   ]
  },
  {
   "cell_type": "markdown",
   "metadata": {},
   "source": [
    "### R8: Plotting inner states differences"
   ]
  },
  {
   "cell_type": "markdown",
   "metadata": {},
   "source": [
    "Let's plot the fault diffusion of the first 10 outputs."
   ]
  },
  {
   "cell_type": "code",
   "execution_count": null,
   "metadata": {},
   "outputs": [],
   "source": [
    "%run \"../../Helper_Scripts/AES_differential_plotter.ipynb\"\n",
    "curve=None\n",
    "if key is not None:\n",
    "    ad=AesDiff(intext=text, key=key, encrypt=True)\n",
    "    for c in outputs[:100]:\n",
    "        ad.add_glitch(c)\n",
    "    curve=ad.plot_diff_bits()\n",
    "    if curve:\n",
    "        curve\n",
    "        curve *= hv.Path([(0, 8), (10, 8)], label='8 bits faulted').opts(color=\"red\", show_legend=True)\n",
    "curve.opts(width=600, height=600)"
   ]
  },
  {
   "cell_type": "markdown",
   "metadata": {},
   "source": [
    "And grouped by faulty bytes. We now see that we get single byte faults one round earlier:"
   ]
  },
  {
   "cell_type": "code",
   "execution_count": null,
   "metadata": {},
   "outputs": [],
   "source": [
    "curve = None\n",
    "if key is not None:\n",
    "    curve=ad.plot_diff_bytes()\n",
    "    if curve:\n",
    "        curve.opts(width=600, height=600)\n",
    "curve"
   ]
  },
  {
   "cell_type": "markdown",
   "metadata": {},
   "source": [
    "## The end"
   ]
  },
  {
   "cell_type": "markdown",
   "metadata": {},
   "source": [
    "Once you're done, clean up the connection to the scope and target.  \n",
    "**Warning**, once disconnected, you'll have to run the cells since the [CW-lite connection and target flashing](#CW-lite-connection-and-target-flashing) section to be connected again."
   ]
  },
  {
   "cell_type": "code",
   "execution_count": null,
   "metadata": {},
   "outputs": [],
   "source": [
    "scope.dis()\n",
    "target.dis()"
   ]
  },
  {
   "cell_type": "markdown",
   "metadata": {},
   "source": [
    "This tutorial is over.  \n",
    "You might now try to attack other instances by yourself, e.g. recompile the target with `CRYPTO_TARGET = \"TINYAES128C\"` and try to break it!"
   ]
  },
  {
   "cell_type": "markdown",
   "metadata": {},
   "source": [
    "## Tests"
   ]
  },
  {
   "cell_type": "code",
   "execution_count": null,
   "metadata": {},
   "outputs": [],
   "source": [
    "assert key == [43, 126, 21, 22, 40, 174, 210, 166, 171, 247, 21, 136, 9, 207, 79, 60], \"Failed to break r8\""
   ]
  },
  {
   "cell_type": "code",
   "execution_count": null,
   "metadata": {},
   "outputs": [],
   "source": [
    "assert r9_key == [43, 126, 21, 22, 40, 174, 210, 166, 171, 247, 21, 136, 9, 207, 79, 60], \"Failed to break r9\""
   ]
  }
 ],
 "metadata": {
  "kernelspec": {
   "display_name": "Python 3 (ipykernel)",
   "language": "python",
   "name": "python3"
  },
  "language_info": {
   "codemirror_mode": {
    "name": "ipython",
    "version": 3
   },
   "file_extension": ".py",
   "mimetype": "text/x-python",
   "name": "python",
   "nbconvert_exporter": "python",
   "pygments_lexer": "ipython3",
   "version": "3.10.4"
  }
 },
 "nbformat": 4,
 "nbformat_minor": 4
}
