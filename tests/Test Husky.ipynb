{
 "cells": [
  {
   "cell_type": "code",
   "execution_count": null,
   "id": "2274bbaa",
   "metadata": {},
   "outputs": [],
   "source": []
  },
  {
   "cell_type": "code",
   "execution_count": null,
   "id": "0666783d",
   "metadata": {},
   "outputs": [],
   "source": [
    "import os\n",
    "import chipwhisperer as cw\n",
    "\n",
    "scope = cw.scope()\n",
    "os.environ[\"HUSKY_HW_LOC\"] = str(scope._getNAEUSB().hw_location())\n",
    "scope.default_setup()\n",
    "cw.program_target(scope, cw.programmers.STM32FProgrammer, \"../../hardware/victims/firmware/simpleserial-trace/simpleserial-trace-CW308_STM32F3.hex\")\n",
    "scope.dis()"
   ]
  },
  {
   "cell_type": "code",
   "execution_count": null,
   "id": "7f0e1273",
   "metadata": {
    "scrolled": false
   },
   "outputs": [],
   "source": [
    "import pytest\n",
    "retcode = pytest.main([\"-v\", \"-rs\", \"../../tests/test_husky.py\", \"-k\", \"not trace\"])"
   ]
  },
  {
   "cell_type": "code",
   "execution_count": null,
   "id": "0a9c92e9",
   "metadata": {},
   "outputs": [],
   "source": [
    "assert retcode.value == 0, retcode"
   ]
  },
  {
   "cell_type": "code",
   "execution_count": null,
   "id": "47c478d3",
   "metadata": {},
   "outputs": [],
   "source": [
    "retcode.name"
   ]
  },
  {
   "cell_type": "code",
   "execution_count": null,
   "id": "653e0288",
   "metadata": {},
   "outputs": [],
   "source": []
  }
 ],
 "metadata": {
  "kernelspec": {
   "display_name": "Python 3 (ipykernel)",
   "language": "python",
   "name": "python3"
  },
  "language_info": {
   "codemirror_mode": {
    "name": "ipython",
    "version": 3
   },
   "file_extension": ".py",
   "mimetype": "text/x-python",
   "name": "python",
   "nbconvert_exporter": "python",
   "pygments_lexer": "ipython3",
   "version": "3.9.5"
  }
 },
 "nbformat": 4,
 "nbformat_minor": 5
}
